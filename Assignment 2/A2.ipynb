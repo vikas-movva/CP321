{
 "cells": [
  {
   "cell_type": "markdown",
   "id": "c214e5be",
   "metadata": {},
   "source": [
    "# Assignment 2 (10 Marks)\n",
    "\n",
    "Please submit this file only.\n",
    "\n",
    "Name: \n",
    "\n",
    "Student ID:  "
   ]
  },
  {
   "cell_type": "markdown",
   "id": "853c82ff",
   "metadata": {},
   "source": [
    "## Question 1\n",
    "\n",
    "Please use this same dataset as in Assignment 1 for the following plot:\n",
    "\n",
    "Visualize the time series for Regular Unleaded Gasoline prices in Ottawa from 2000 to 2023. Smooth the time series using a simple moving average with a window size of 40. Plot both the original time series and its trend in one plot.\n",
    "\n",
    "Your visualization should be complete."
   ]
  },
  {
   "cell_type": "code",
   "execution_count": 114,
   "id": "eff59f67",
   "metadata": {},
   "outputs": [],
   "source": [
    "import pandas as pd\n",
    "\n",
    "df = pd.read_csv('data/energy-price.csv')"
   ]
  },
  {
   "cell_type": "code",
   "execution_count": null,
   "id": "00ae32a1",
   "metadata": {},
   "outputs": [],
   "source": [
    "# write your code here\n"
   ]
  },
  {
   "cell_type": "markdown",
   "id": "27fb6867",
   "metadata": {},
   "source": [
    "## Question 2\n",
    "\n",
    "Please plot a map of Canada showing the volcanoes and earthquakes, with the earthquakes' magnitude represented by color. Your visualization should be complete.\n",
    "\n",
    "Data sources:\n",
    "https://github.com/plotly/datasets/blob/master/volcano_db.csv\n",
    "https://earthquakescanada.nrcan.gc.ca/stndon/NEDB-BNDS/bulletin-en.php"
   ]
  },
  {
   "cell_type": "code",
   "execution_count": 110,
   "id": "c7647852",
   "metadata": {},
   "outputs": [
    {
     "name": "stderr",
     "output_type": "stream",
     "text": [
      "/var/folders/s0/v6rxfdps4192tkghxk8489sh0000gn/T/ipykernel_16301/1123739806.py:7: FutureWarning: The geopandas.dataset module is deprecated and will be removed in GeoPandas 1.0. You can get the original 'naturalearth_lowres' data from https://www.naturalearthdata.com/downloads/110m-cultural-vectors/.\n",
      "  world = geopandas.read_file(geopandas.datasets.get_path('naturalearth_lowres'))\n"
     ]
    }
   ],
   "source": [
    "import pandas as pd\n",
    "import geopandas \n",
    "\n",
    "## volcanoes in the world\n",
    "volcano = pd.read_csv('data/volcano_db.csv', encoding = \"ISO-8859-1\")\n",
    "## world map\n",
    "world = geopandas.read_file(geopandas.datasets.get_path('naturalearth_lowres'))\n",
    "## earthquakes in Canada\n",
    "earthquake = pd.read_csv('data/earthquake.txt',sep='|')"
   ]
  },
  {
   "cell_type": "code",
   "execution_count": 1,
   "id": "fab68831",
   "metadata": {
    "scrolled": true
   },
   "outputs": [],
   "source": [
    "# write your code here\n"
   ]
  }
 ],
 "metadata": {
  "kernelspec": {
   "display_name": "Python 3 (ipykernel)",
   "language": "python",
   "name": "python3"
  },
  "language_info": {
   "codemirror_mode": {
    "name": "ipython",
    "version": 3
   },
   "file_extension": ".py",
   "mimetype": "text/x-python",
   "name": "python",
   "nbconvert_exporter": "python",
   "pygments_lexer": "ipython3",
   "version": "3.12.1"
  }
 },
 "nbformat": 4,
 "nbformat_minor": 5
}
